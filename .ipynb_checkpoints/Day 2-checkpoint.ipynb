{
 "cells": [
  {
   "cell_type": "code",
   "execution_count": 1,
   "id": "0e5e6917",
   "metadata": {},
   "outputs": [],
   "source": [
    "# Data types \n",
    "#Strings - created with double quotes \n",
    "#start counting at zero ( piece of text)\n",
    "#square brackets - position oof a characher\n",
    "#Integers - whole numbers \n",
    "#floats - decimals \n",
    "#Boolean - True or False(capital T and F) \n",
    "#Type conversion - str-to srting \n",
    "#\n"
   ]
  },
  {
   "cell_type": "code",
   "execution_count": 2,
   "id": "72d52835",
   "metadata": {},
   "outputs": [
    {
     "name": "stdout",
     "output_type": "stream",
     "text": [
      "123345008\n"
     ]
    }
   ],
   "source": [
    "print(123_345_008)"
   ]
  },
  {
   "cell_type": "code",
   "execution_count": 3,
   "id": "db597854",
   "metadata": {},
   "outputs": [
    {
     "name": "stdout",
     "output_type": "stream",
     "text": [
      "What is your name?emily\n",
      "Your name has 5 characters\n"
     ]
    }
   ],
   "source": [
    "num_char = len(input(\"What is your name?\"))\n",
    "new_num_char = str(num_char)\n",
    "print(\"Your name has\"+ \" \"+ new_num_char + \" \" + \"characters\")"
   ]
  },
  {
   "cell_type": "code",
   "execution_count": 4,
   "id": "adaaa41e",
   "metadata": {},
   "outputs": [
    {
     "name": "stdout",
     "output_type": "stream",
     "text": [
      "<class 'int'>\n",
      "<class 'str'>\n",
      "123\n"
     ]
    }
   ],
   "source": [
    "a = 123\n",
    "print(type(a))\n",
    "a = str(123)\n",
    "print(type(a))\n",
    "print(a)"
   ]
  },
  {
   "cell_type": "code",
   "execution_count": 5,
   "id": "1a941b8d",
   "metadata": {},
   "outputs": [
    {
     "name": "stdout",
     "output_type": "stream",
     "text": [
      "170.5\n"
     ]
    }
   ],
   "source": [
    "print( 70 + float(\"100.5\"))"
   ]
  },
  {
   "cell_type": "code",
   "execution_count": 6,
   "id": "c89e89c0",
   "metadata": {},
   "outputs": [
    {
     "name": "stdout",
     "output_type": "stream",
     "text": [
      "Type a two digit number23\n",
      "<class 'str'>\n",
      "2\n",
      "3\n",
      "5\n"
     ]
    }
   ],
   "source": [
    "two_digit_no = input(\"Type a two digit number\")\n",
    "print(type(two_digit_no))\n",
    "a = (two_digit_no[0])\n",
    "b = (two_digit_no[1])\n",
    "print(a)\n",
    "print(b)\n",
    "result = int(a) + int(b)\n",
    "print(result)"
   ]
  },
  {
   "cell_type": "code",
   "execution_count": 7,
   "id": "14c41948",
   "metadata": {},
   "outputs": [
    {
     "name": "stdout",
     "output_type": "stream",
     "text": [
      "10\n",
      "16\n",
      "4.0\n",
      "64\n",
      "3.0\n"
     ]
    }
   ],
   "source": [
    "print(8 + 2)\n",
    "print(8 * 2)\n",
    "print(8 / 2)\n",
    "print(8 ** 2)\n",
    "print(3 / 3 * 3 + 3 - 3)"
   ]
  },
  {
   "cell_type": "code",
   "execution_count": 8,
   "id": "b68667c5",
   "metadata": {},
   "outputs": [
    {
     "name": "stdout",
     "output_type": "stream",
     "text": [
      "Heght in metres2.3\n",
      "Weight in kgs48\n",
      "9.073724007561438\n"
     ]
    }
   ],
   "source": [
    "height = input(\"Heght in metres\")\n",
    "weight= input(\"Weight in kgs\")\n",
    "BMI = int(weight) / float(height) ** 2\n",
    "print(BMI)"
   ]
  },
  {
   "cell_type": "code",
   "execution_count": 9,
   "id": "84a3f139",
   "metadata": {},
   "outputs": [
    {
     "name": "stdout",
     "output_type": "stream",
     "text": [
      "3\n",
      "2.67\n",
      "2\n",
      "2\n"
     ]
    }
   ],
   "source": [
    "print(round(8 / 3))\n",
    "print(round(8 / 3,2))\n",
    "print(int(8 / 3))\n",
    "#flow division \n",
    "print( 8 // 3)"
   ]
  },
  {
   "cell_type": "code",
   "execution_count": 10,
   "id": "3f848f8d",
   "metadata": {},
   "outputs": [
    {
     "name": "stdout",
     "output_type": "stream",
     "text": [
      "What is your current age?\n",
      "21\n",
      "69\n",
      "25185\n",
      "828\n",
      "3588\n",
      "You have 25185 days,3588 weeks ,828 months,and 69 years left\n"
     ]
    }
   ],
   "source": [
    "#Your life in weeks\n",
    "age = input(\"What is your current age?\\n\")\n",
    "new_age = int(age)\n",
    "years_left = 90 - new_age\n",
    "print(years_left)\n",
    "days_left = years_left * 365\n",
    "print(days_left)\n",
    "months_left = years_left * 12\n",
    "print(months_left)\n",
    "weeks_left = years_left * 52\n",
    "print(weeks_left)\n",
    "print(f\"You have {days_left} days,{weeks_left} weeks ,{months_left} months,and {years_left} years left\")"
   ]
  },
  {
   "cell_type": "code",
   "execution_count": 11,
   "id": "6afdd439",
   "metadata": {},
   "outputs": [
    {
     "name": "stdout",
     "output_type": "stream",
     "text": [
      "Welcome to the tip calculator\n",
      "What was the total bill?$49\n",
      "How much tip  tip would you like to give?,10 ,12 or 1510\n",
      "How many people to split the bill?5\n",
      "Each person should pay :$10.8\n"
     ]
    }
   ],
   "source": [
    "#project\n",
    "#Tip calculator\n",
    "print(\"Welcome to the tip calculator\")\n",
    "bill = float(input(\"What was the total bill?$\"))\n",
    "tip =int(input(\"How much tip  tip would you like to give?,10 ,12 or 15\"))\n",
    "people = int(input(\"How many people to split the bill?\"))\n",
    "bill_tip = tip /100 * bill + bill\n",
    "per_person = round(bill_tip / people,1)\n",
    "final_amount = \"{:.2f}\".format(per_person)\n",
    "print(f\"Each person should pay :${per_person}\")\n"
   ]
  },
  {
   "cell_type": "code",
   "execution_count": null,
   "id": "85418238",
   "metadata": {},
   "outputs": [],
   "source": []
  }
 ],
 "metadata": {
  "kernelspec": {
   "display_name": "Python 3 (ipykernel)",
   "language": "python",
   "name": "python3"
  },
  "language_info": {
   "codemirror_mode": {
    "name": "ipython",
    "version": 3
   },
   "file_extension": ".py",
   "mimetype": "text/x-python",
   "name": "python",
   "nbconvert_exporter": "python",
   "pygments_lexer": "ipython3",
   "version": "3.9.13"
  }
 },
 "nbformat": 4,
 "nbformat_minor": 5
}
