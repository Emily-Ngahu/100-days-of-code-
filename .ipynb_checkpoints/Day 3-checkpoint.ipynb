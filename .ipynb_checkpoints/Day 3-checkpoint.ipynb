{
 "cells": [
  {
   "cell_type": "code",
   "execution_count": 2,
   "id": "78081f84",
   "metadata": {},
   "outputs": [
    {
     "name": "stdout",
     "output_type": "stream",
     "text": [
      "continue\n"
     ]
    }
   ],
   "source": [
    "#if else \n",
    "water_level = 50\n",
    "if water_level > 80:\n",
    "    print(\"Drain the water\")\n",
    "else:\n",
    "        print(\"continue\")"
   ]
  },
  {
   "cell_type": "code",
   "execution_count": 8,
   "id": "1158ca8d",
   "metadata": {
    "scrolled": true
   },
   "outputs": [
    {
     "name": "stdout",
     "output_type": "stream",
     "text": [
      "Welcome to the rollercoaster.\n",
      "What is your height in cms\n",
      "115\n",
      "Dont take ticket\n"
     ]
    }
   ],
   "source": [
    "#rollercoaster\n",
    "print(\"Welcome to the rollercoaster.\")\n",
    "height = input(\"What is your height in cms\\n\")\n",
    "if int(height) > 120:\n",
    "    print(\"Take ticket\")\n",
    "else:\n",
    "    print(\"Dont take ticket\")\n"
   ]
  },
  {
   "cell_type": "code",
   "execution_count": 13,
   "id": "b924d138",
   "metadata": {},
   "outputs": [
    {
     "name": "stdout",
     "output_type": "stream",
     "text": [
      "Which number do you want to check?\n",
      "107\n",
      "This is an odd number\n"
     ]
    }
   ],
   "source": [
    "7 % 2\n",
    "number = int(input(\"Which number do you want to check?\\n\"))\n",
    "if number % 2 ==0:\n",
    "    print(\"This is an even number\")\n",
    "else:\n",
    "    print(\"This is an odd number\")"
   ]
  },
  {
   "cell_type": "code",
   "execution_count": 21,
   "id": "b1eab237",
   "metadata": {},
   "outputs": [
    {
     "name": "stdout",
     "output_type": "stream",
     "text": [
      "Welcome to the rollercoaster.\n",
      "What is your height in cms\n",
      "134\n",
      "Take ticket\n",
      "What is your age?24\n",
      "Adult ticket costs $15\n",
      "Do you want a photo? Y or NY\n",
      "Your final bill is 18\n"
     ]
    }
   ],
   "source": [
    "print(\"Welcome to the rollercoaster.\")\n",
    "height = int(input(\"What is your height in cms\\n\"))\n",
    "bill = 0\n",
    "if (height) > 120:\n",
    "    print(\"Take ticket\")\n",
    "    age = int(input(\"What is your age?\"))\n",
    "    if (age) < 12:\n",
    "        bill = 5\n",
    "        print(\"Child ticket costs $5\")\n",
    "    elif(age) < 18:\n",
    "        bill = 7\n",
    "        print(\"Youth ticket costs $7\") \n",
    "    else:\n",
    "        bill = 15\n",
    "        print(\"Adult ticket costs $15\")\n",
    "    wants_photo = input(\"Do you want a photo? Y or N\")\n",
    "    if wants_photo ==\"Y\":\n",
    "        bill = bill + 3\n",
    "        print(f\"Your final bill is {bill}\")\n",
    "else:\n",
    "    print(\"Dont take ticket\")\n"
   ]
  },
  {
   "cell_type": "code",
   "execution_count": 47,
   "id": "19843cb8",
   "metadata": {},
   "outputs": [
    {
     "name": "stdout",
     "output_type": "stream",
     "text": [
      "What is your height in metres?\n",
      "1.7\n",
      "What is your weight is kgs?\n",
      "105\n",
      "36\n",
      "Clinically obese\n"
     ]
    }
   ],
   "source": [
    "height = float(input(\"What is your height in metres?\\n\"))\n",
    "weight = float(input(\"What is your weight is kgs?\\n\"))\n",
    "BMI = round(weight / (height**2))\n",
    "print(BMI)\n",
    "if BMI < 18.5:\n",
    "    print(\"underweight\")\n",
    "elif BMI < 25:\n",
    "    print(\"Normal weight\")\n",
    "elif BMI < 30:\n",
    "    print(\"Overweight\")\n",
    "elif BMI < 35:\n",
    "    print(\"Obese\")\n",
    "else:\n",
    "    print(\"Clinically obese\")"
   ]
  },
  {
   "cell_type": "code",
   "execution_count": 13,
   "id": "555ef3b9",
   "metadata": {},
   "outputs": [
    {
     "name": "stdout",
     "output_type": "stream",
     "text": [
      "What year do you want to check?\n",
      "1996\n",
      "Leap year\n"
     ]
    }
   ],
   "source": [
    "#leap year\n",
    "year = int(input(\"What year do you want to check?\\n\"))\n",
    "if year % 4==0:\n",
    "    if year % 100==0:\n",
    "        if year % 400==0:\n",
    "            print(\"Leap year\")\n",
    "        else:\n",
    "            print(\"Not a leap year\")\n",
    "    else:\n",
    "        print(\"Leap year\")\n",
    "else:\n",
    "    print(\"not a leap year\")\n"
   ]
  },
  {
   "cell_type": "code",
   "execution_count": 2,
   "id": "cc23cb36",
   "metadata": {},
   "outputs": [
    {
     "name": "stdout",
     "output_type": "stream",
     "text": [
      "Welcome to pizza delivery!\n",
      "What size of pizza do you want? S,M or LM\n",
      "Do you want pepperoni? Y or NY\n",
      "Do you want extra cheese? Y or NY\n"
     ]
    }
   ],
   "source": [
    "#pizza deliveries\n",
    "print(\"Welcome to pizza delivery!\")\n",
    "size = input(\"What size of pizza do you want? S,M or L\")\n",
    "add_pepperoni = input(\"Do you want pepperoni? Y or N\")\n",
    "extra_cheese = input(\"Do you want extra cheese? Y or N\")\n",
    "bill = 0\n",
    "if size == \"S\":\n",
    "    bill =+ 15\n",
    "elif size == \"M\":\n",
    "    bill =+ 20\n",
    "else:\n",
    "    bill =+ 25\n",
    "if add_pepperoni == \"Y\":\n",
    "    if size == \"S\":\n",
    "        bll =+ 2\n",
    "    else:\n",
    "        bill =+ 3\n",
    "if extra_cheese == \" Y\":\n",
    "    bill =+ 1\n",
    "    \n"
   ]
  },
  {
   "cell_type": "code",
   "execution_count": null,
   "id": "1dfa4048",
   "metadata": {},
   "outputs": [],
   "source": [
    "#logical operators\n",
    "a=12\n",
    "a>15\n",
    "a>10 and a<13\n",
    "a>15 and a<13\n",
    "a>15 or a<13\n",
    "not a>15"
   ]
  },
  {
   "cell_type": "code",
   "execution_count": null,
   "id": "07d38bf8",
   "metadata": {},
   "outputs": [],
   "source": [
    "#love calculaotor\n",
    "girl=\"ANGELA\".lower()\n",
    "print(girl)\n",
    "girl.count(\"a\")\n",
    "print(\"Welcome to the love calculator!\")\n",
    "boy= input(\"What is you name?\\n\")\n",
    "girl=input(\"What is your name?\\n\")\n",
    "combined=boy+girl\n",
    "lowercase_string=combined.lower()"
   ]
  },
  {
   "cell_type": "code",
   "execution_count": null,
   "id": "e8a87c55",
   "metadata": {},
   "outputs": [],
   "source": []
  }
 ],
 "metadata": {
  "kernelspec": {
   "display_name": "Python 3 (ipykernel)",
   "language": "python",
   "name": "python3"
  },
  "language_info": {
   "codemirror_mode": {
    "name": "ipython",
    "version": 3
   },
   "file_extension": ".py",
   "mimetype": "text/x-python",
   "name": "python",
   "nbconvert_exporter": "python",
   "pygments_lexer": "ipython3",
   "version": "3.9.13"
  }
 },
 "nbformat": 4,
 "nbformat_minor": 5
}
