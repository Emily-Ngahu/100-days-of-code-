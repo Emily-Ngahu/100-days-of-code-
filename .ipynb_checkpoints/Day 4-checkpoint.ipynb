{
 "cells": [
  {
   "cell_type": "code",
   "execution_count": 7,
   "id": "a3a141fc",
   "metadata": {},
   "outputs": [
    {
     "data": {
      "text/plain": [
       "True"
      ]
     },
     "execution_count": 7,
     "metadata": {},
     "output_type": "execute_result"
    }
   ],
   "source": [
    "#logical operators\n",
    "a=12\n",
    "a>15\n",
    "a>10 and a<13\n",
    "a>15 and a<13\n",
    "a>15 or a<13\n",
    "not a>15\n"
   ]
  },
  {
   "cell_type": "code",
   "execution_count": 9,
   "id": "75accc75",
   "metadata": {},
   "outputs": [
    {
     "name": "stdout",
     "output_type": "stream",
     "text": [
      "4\n"
     ]
    }
   ],
   "source": [
    "a=4\n",
    "print(a)"
   ]
  },
  {
   "cell_type": "code",
   "execution_count": 21,
   "id": "331aad93",
   "metadata": {},
   "outputs": [
    {
     "name": "stdout",
     "output_type": "stream",
     "text": [
      "Welcome to the love calculator!\n",
      "What is you name?\n",
      "Kiprop\n",
      "What is your name?\n",
      "Ruguru\n",
      "KipropRuguru\n",
      "kipropruguru\n",
      "6\n",
      "1\n",
      "61\n",
      "Your score is 61\n"
     ]
    }
   ],
   "source": [
    "print(\"Welcome to the love calculator!\")\n",
    "boy= input(\"What is you name?\\n\")\n",
    "girl=input(\"What is your name?\\n\")\n",
    "combined=boy+girl\n",
    "print(combined)\n",
    "lowercase_string=combined.lower()\n",
    "print(lowercase_string)\n",
    "t=lowercase_string.count(\"t\")\n",
    "r=lowercase_string.count(\"r\")\n",
    "u=lowercase_string.count(\"u\")\n",
    "e=lowercase_string.count(\"e\")\n",
    "true=t+r+u+e\n",
    "print(true)\n",
    "l=lowercase_string.count(\"l\")\n",
    "o=lowercase_string.count(\"o\")\n",
    "v=lowercase_string.count(\"v\")\n",
    "e=lowercase_string.count(\"e\")\n",
    "love=l+o+v+e\n",
    "print(love)\n",
    "love_score =int(str(true)+str(love))\n",
    "print(love_score)\n",
    "if love_score <10 or love_score>90:\n",
    "    print(f\"Your love score is{love_score},you go together like fries and chicken\")\n",
    "elif love_score>=40 and love_score<=50:\n",
    "    print(f\"Your love score is {love_score},you are good together.\")\n",
    "else:\n",
    "          print(f\"Your score is {love_score}\")"
   ]
  },
  {
   "cell_type": "code",
   "execution_count": null,
   "id": "fd784ac8",
   "metadata": {},
   "outputs": [],
   "source": [
    "#project treasure island \n",
    "print('''\n",
    "\n",
    "*******************************************************************************\n",
    "          |                   |                  |                     |\n",
    " _________|________________.=\"\"_;=.______________|_____________________|_______\n",
    "|                   |  ,-\"_,=\"\"     `\"=.|                  |\n",
    "|___________________|__\"=._o`\"-._        `\"=.______________|___________________\n",
    "          |                `\"=._o`\"=._      _`\"=._                     |\n",
    " _________|_____________________:=._o \"=._.\"_.-=\"'\"=.__________________|_______\n",
    "|                   |    __.--\" , ; `\"=._o.\" ,-\"\"\"-._ \".   |\n",
    "|___________________|_._\"  ,. .` ` `` ,  `\"-._\"-._   \". '__|___________________\n",
    "          |           |o`\"=._` , \"` `; .\". ,  \"-._\"-._; ;              |\n",
    " _________|___________| ;`-.o`\"=._; .\" ` '`.\"\\` . \"-._ /_______________|_______\n",
    "|                   | |o;    `\"-.o`\"=._``  '` \" ,__.--o;   |\n",
    "|___________________|_| ;     (#) `-.o `\"=.`_.--\"_o.-; ;___|___________________\n",
    "____/______/______/___|o;._    \"      `\".o|o_.--\"    ;o;____/______/______/____\n",
    "/______/______/______/_\"=._o--._        ; | ;        ; ;/______/______/______/_\n",
    "____/______/______/______/__\"=._o--._   ;o|o;     _._;o;____/______/______/____\n",
    "/______/______/______/______/____\"=._o._; | ;_.--\"o.--\"_/______/______/______/_\n",
    "____/______/______/______/______/_____\"=.o|o_.--\"\"___/______/______/______/____\n",
    "/______/______/______/______/______/______/______/______/______/______/[TomekK]\n",
    "*******************************************************************************\n",
    "''')\n",
    "print(\"Welcome to the treasure island!,Your task is to find the treasure,good luck!\")\n",
    "turn=input('which turn do you wanna take?type \"left\" or \"right\".')\n",
    "lturn=turn.lower()\n",
    "print(lturn)\n",
    "if lturn==\"left\":\n",
    "    input('You have come into a lake.Do you wanna \"swim\" or \"take a boat\"?.')\n",
    "else:\n",
    "    print(\"Opps,you fell into a hole.Game over\")"
   ]
  },
  {
   "cell_type": "code",
   "execution_count": null,
   "id": "458d7e9d",
   "metadata": {},
   "outputs": [],
   "source": []
  }
 ],
 "metadata": {
  "kernelspec": {
   "display_name": "Python 3 (ipykernel)",
   "language": "python",
   "name": "python3"
  },
  "language_info": {
   "codemirror_mode": {
    "name": "ipython",
    "version": 3
   },
   "file_extension": ".py",
   "mimetype": "text/x-python",
   "name": "python",
   "nbconvert_exporter": "python",
   "pygments_lexer": "ipython3",
   "version": "3.9.13"
  }
 },
 "nbformat": 4,
 "nbformat_minor": 5
}
