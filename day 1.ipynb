{
 "cells": [
  {
   "cell_type": "code",
   "execution_count": 3,
   "id": "6a6a5933",
   "metadata": {},
   "outputs": [
    {
     "name": "stdout",
     "output_type": "stream",
     "text": [
      "What is your name?EMILY\n",
      "hello EMILY\n"
     ]
    }
   ],
   "source": [
    " print(\"hello\"+\" \" + input(\"What is your name?\"))\n"
   ]
  },
  {
   "cell_type": "code",
   "execution_count": 4,
   "id": "d9d14257",
   "metadata": {},
   "outputs": [
    {
     "name": "stdout",
     "output_type": "stream",
     "text": [
      "2\n",
      "what is your nameemily\n",
      "5\n",
      "what is your name? where is your homenairobi\n"
     ]
    },
    {
     "data": {
      "text/plain": [
       "'nairobi'"
      ]
     },
     "execution_count": 4,
     "metadata": {},
     "output_type": "execute_result"
    }
   ],
   "source": [
    "#input()-promt the user \n",
    "#print()prints the outcome\n",
    "#no of characters in a users name \n",
    "print(len(\"EM\"))\n",
    "print(len(input(\"what is your name\")))\n",
    "input(\"what is your name?\" +\" \" \"where is your home\")"
   ]
  },
  {
   "cell_type": "code",
   "execution_count": 5,
   "id": "d63ba865",
   "metadata": {},
   "outputs": [
    {
     "name": "stdout",
     "output_type": "stream",
     "text": [
      "what is your name?Emily\n",
      "Emily\n",
      "5\n",
      "a:love\n",
      "b:you\n"
     ]
    }
   ],
   "source": [
    "#variables\n",
    "name= input(\"what is your name?\")\n",
    "print(name)\n",
    "length = len(name)\n",
    "print(length)\n",
    "a = input(\"a:\")\n",
    "b = input(\"b:\")\n",
    "c = a\n",
    "b = a\n",
    "b = c "
   ]
  },
  {
   "cell_type": "code",
   "execution_count": 6,
   "id": "4a8d4f2f",
   "metadata": {},
   "outputs": [
    {
     "name": "stdout",
     "output_type": "stream",
     "text": [
      "5\n",
      "a12\n",
      "b65\n"
     ]
    }
   ],
   "source": [
    "print(length)\n",
    "a = input(\"a\")\n",
    "b = input(\"b\")\n",
    "c = a\n",
    "b = a\n",
    "b = c\n",
    "a=5\n",
    "b=6"
   ]
  },
  {
   "cell_type": "code",
   "execution_count": 7,
   "id": "74dcc598",
   "metadata": {},
   "outputs": [],
   "source": [
    "#naming variables \n",
    "#make your code readable -makes sense \n",
    "#one single unit \n",
    "#use nos in the middle not at the beginning \n",
    "#dont use privillage words \n",
    "#use underscore to separate words \n",
    "#case sensitive "
   ]
  },
  {
   "cell_type": "code",
   "execution_count": 8,
   "id": "7f715037",
   "metadata": {},
   "outputs": [
    {
     "name": "stdout",
     "output_type": "stream",
     "text": [
      "Welcome to the band name generator\n",
      "Which city did you grow up in?Nairobi\n",
      "what is the name of your petpaw\n",
      "Your band name could be Nairobi paw\n"
     ]
    }
   ],
   "source": [
    "#band name generator \n",
    "#first create greetings \n",
    "print(\"Welcome to the band name generator\")\n",
    "#ask user the city the grew up in \n",
    "city = input(\"Which city did you grow up in?\")\n",
    "#name of pet \n",
    "pet = input(\"what is the name of your pet\")\n",
    "#name of band \n",
    "print(\"Your band name could be\"+\" \" + city + \" \"+ pet)\n",
    "#make sure cursor shows on a new line -add the back slash and n (\\n)\n"
   ]
  },
  {
   "cell_type": "code",
   "execution_count": null,
   "id": "ee3ad70c",
   "metadata": {},
   "outputs": [],
   "source": []
  }
 ],
 "metadata": {
  "kernelspec": {
   "display_name": "Python 3 (ipykernel)",
   "language": "python",
   "name": "python3"
  },
  "language_info": {
   "codemirror_mode": {
    "name": "ipython",
    "version": 3
   },
   "file_extension": ".py",
   "mimetype": "text/x-python",
   "name": "python",
   "nbconvert_exporter": "python",
   "pygments_lexer": "ipython3",
   "version": "3.9.13"
  }
 },
 "nbformat": 4,
 "nbformat_minor": 5
}
